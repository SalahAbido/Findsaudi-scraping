{
  "cells": [
    {
      "cell_type": "markdown",
      "metadata": {
        "id": "view-in-github",
        "colab_type": "text"
      },
      "source": [
        "<a href=\"https://colab.research.google.com/github/SalahAbido/Findsaudi-scraping/blob/main/findsaudi_scraping_.ipynb\" target=\"_parent\"><img src=\"https://colab.research.google.com/assets/colab-badge.svg\" alt=\"Open In Colab\"/></a>"
      ]
    },
    {
      "cell_type": "code",
      "execution_count": null,
      "metadata": {
        "id": "i50LzaXHpE7K"
      },
      "outputs": [],
      "source": [
        "import math as m\n",
        "from tqdm import tqdm\n",
        "import pandas as pd\n",
        "\n",
        "from bs4 import BeautifulSoup\n",
        "import requests\n",
        "categoryLink = \"https://www.findsaudi.com/ar/Cat/1/%d8%a7%d9%84%d8%aa%d8%b5%d9%86%d9%8a%d9%81%d8%a7%d8%aa_%d8%a7%d9%84%d8%b1%d8%a6%d9%8a%d8%b3%d9%8a%d8%a9.aspx\""
      ]
    },
    {
      "cell_type": "code",
      "execution_count": null,
      "metadata": {
        "id": "WcjnveBSpQ0A"
      },
      "outputs": [],
      "source": [
        "#geting all category links and number of pages in each category\n",
        "\n",
        "def findoutAllcategory(categoryLink):\n",
        "  categorylinks =[]\n",
        "  categorylengths =[]\n",
        "\n",
        "  page = requests.get(categoryLink)\n",
        "  soup = BeautifulSoup(page.content)\n",
        "  categoryTemp = soup.find(\"div\", {\"class\": \"categories-divs row\"}).find_all(\"a\")\n",
        "\n",
        "  for i in categoryTemp:\n",
        "    categorylengths.append(i.find(\"span\").text[1:-1])\n",
        "    categorylinks.append(\"https://www.findsaudi.com/\"+ i.get('href'))\n",
        "  result = [] # empty dictionary\n",
        "  for key, value in zip(categorylinks, categorylengths):\n",
        "      result.append([key,value])\n",
        "  return result\n",
        "\n",
        "categoryData = findoutAllcategory(categoryLink)\n",
        "# ?pagerId=2"
      ]
    },
    {
      "cell_type": "code",
      "execution_count": null,
      "metadata": {
        "colab": {
          "background_save": true,
          "base_uri": "https://localhost:8080/"
        },
        "id": "U4RoRog9TQC0",
        "outputId": "2f6f44f8-fee2-4e9d-e951-b3bc95b0bab2"
      },
      "outputs": [
        {
          "name": "stderr",
          "output_type": "stream",
          "text": [
            " 97%|█████████▋| 29/30 [1:06:51<02:30, 150.32s/it]"
          ]
        }
      ],
      "source": [
        "from traitlets.traitlets import link\n",
        "# number of company in each page is 20 page\n",
        "companyAllData=[]\n",
        "\n",
        "for c in tqdm(range (len(categoryData))):#len(categoryData)\n",
        "  pagesForCategory = m.ceil(int(categoryData[c][1])/20)\n",
        "\n",
        "  for i in range(1,pagesForCategory +1):\n",
        "\n",
        "    page = requests.get(categoryData[c][0]+\"?pagerId={}\".format(i))\n",
        "    soup = BeautifulSoup(page.content)\n",
        "    companyTemp = soup.findAll(\"div\", {\"class\": \"normal-category\"})\n",
        "\n",
        "    for j in range (len(companyTemp)):\n",
        "      companyData=[]\n",
        "      name = companyTemp[j].find(\"a\").text\n",
        "      brief = companyTemp[j].find(\"span\",{\"class\":\"brief_span\"}).text.replace('\\r\\n', '')\n",
        "      phone = companyTemp[j].find(\"span\",{\"class\":\"phone\"}).text\n",
        "      location = companyTemp[j].find(\"span\",{\"class\":\"city\"}).text\n",
        "      categoryType = soup.find(\"h1\", {\"class\": \"category-title\"}).text.replace('\\r\\n', '').strip()\n",
        "      link = \"https://www.findsaudi.com/\" + companyTemp[j].find(\"a\").get('href')\n",
        "      companyAllData.append([name, brief, phone, location ,categoryType,link])"
      ]
    },
    {
      "cell_type": "code",
      "execution_count": null,
      "metadata": {
        "colab": {
          "base_uri": "https://localhost:8080/"
        },
        "id": "TJIx-4Y0DrPQ",
        "outputId": "3fdbc5ba-ad09-4399-b894-c69fb1951b00"
      },
      "outputs": [
        {
          "data": {
            "text/plain": [
              "24040"
            ]
          },
          "execution_count": 30,
          "metadata": {},
          "output_type": "execute_result"
        }
      ],
      "source": [
        "len(companyAllData)"
      ]
    },
    {
      "cell_type": "code",
      "execution_count": null,
      "metadata": {
        "id": "wIysaSFuRWq6"
      },
      "outputs": [],
      "source": [
        "# save scraped data in a Excel file to be easy in use\n",
        "df = pd.DataFrame(companyAllData)\n",
        "df.to_excel('findSaudiName.xlsx')"
      ]
    },
    {
      "cell_type": "code",
      "execution_count": null,
      "metadata": {
        "colab": {
          "base_uri": "https://localhost:8080/"
        },
        "id": "0oJ2K1kA4fvC",
        "outputId": "a2b1d9ed-0751-4b01-d42a-b10fa13622b9"
      },
      "outputs": [
        {
          "name": "stdout",
          "output_type": "stream",
          "text": [
            "96\n",
            "1635\n",
            "1630\n",
            "401\n",
            "201\n",
            "1172\n",
            "1547\n",
            "134\n",
            "1001\n",
            "120\n",
            "191\n",
            "75\n",
            "147\n",
            "51\n",
            "4073\n",
            "154\n",
            "104\n",
            "210\n",
            "729\n",
            "234\n",
            "214\n",
            "730\n",
            "79\n",
            "278\n",
            "91\n",
            "185\n",
            "156\n",
            "142\n",
            "1401\n",
            "8150\n",
            "25331\n"
          ]
        }
      ],
      "source": [
        "# get sumtion of all companys\n",
        "sum =0\n",
        "for t in range(len(categoryData)):\n",
        "  sum+=int(categoryData[t][1])\n",
        "  print(int(categoryData[t][1]))\n",
        "print(sum)"
      ]
    }
  ],
  "metadata": {
    "colab": {
      "provenance": [],
      "authorship_tag": "ABX9TyMuvPs6zz/TdfsaGEkIIYfL",
      "include_colab_link": true
    },
    "kernelspec": {
      "display_name": "Python 3",
      "name": "python3"
    },
    "language_info": {
      "name": "python"
    }
  },
  "nbformat": 4,
  "nbformat_minor": 0
}